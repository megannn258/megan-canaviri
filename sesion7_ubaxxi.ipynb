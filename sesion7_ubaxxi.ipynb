{
  "nbformat": 4,
  "nbformat_minor": 0,
  "metadata": {
    "colab": {
      "provenance": [],
      "authorship_tag": "ABX9TyNWRZNdmYa4cSBENbBSeY86",
      "include_colab_link": true
    },
    "kernelspec": {
      "name": "python3",
      "display_name": "Python 3"
    },
    "language_info": {
      "name": "python"
    }
  },
  "cells": [
    {
      "cell_type": "markdown",
      "metadata": {
        "id": "view-in-github",
        "colab_type": "text"
      },
      "source": [
        "<a href=\"https://colab.research.google.com/github/megannn258/megan-canaviri/blob/main/sesion7_ubaxxi.ipynb\" target=\"_parent\"><img src=\"https://colab.research.google.com/assets/colab-badge.svg\" alt=\"Open In Colab\"/></a>"
      ]
    },
    {
      "cell_type": "markdown",
      "source": [
        "DICCIONARIOS"
      ],
      "metadata": {
        "id": "bsdkBFDMGLGg"
      }
    },
    {
      "cell_type": "markdown",
      "source": [
        "Los diccionarios son un tipo de estructura de datos, que nos permiten guardar y organizar información de otra forma."
      ],
      "metadata": {
        "id": "wzZBWDLBGT8J"
      }
    },
    {
      "cell_type": "code",
      "source": [
        "diccionario = {1: \"hola\", 2: \"mundo\"}\n",
        "print(diccionario)"
      ],
      "metadata": {
        "colab": {
          "base_uri": "https://localhost:8080/"
        },
        "id": "zh61Y_aWGbl1",
        "outputId": "9d282c05-e20b-4872-cb47-395c7c1c4780"
      },
      "execution_count": null,
      "outputs": [
        {
          "output_type": "stream",
          "name": "stdout",
          "text": [
            "{1: 'hola', 2: 'mundo'}\n"
          ]
        }
      ]
    },
    {
      "cell_type": "code",
      "source": [
        "diccionario = {1: \"hola\", 2: \"mundo\"}\n",
        "print(diccionario[1])"
      ],
      "metadata": {
        "colab": {
          "base_uri": "https://localhost:8080/"
        },
        "id": "TW9eHlTwKP6C",
        "outputId": "349d0cf1-39f9-4b23-f4e1-40dcce9ea6be"
      },
      "execution_count": null,
      "outputs": [
        {
          "output_type": "stream",
          "name": "stdout",
          "text": [
            "hola\n"
          ]
        }
      ]
    },
    {
      "cell_type": "markdown",
      "source": [
        "los diccionarios son mutables porque se pueden modificar sin necesidad de editarlo desde cero\n",
        "\n",
        "podemos guardar cualquier tipo de dato (valores) para nuestras claves"
      ],
      "metadata": {
        "id": "UvGawZ__LV6p"
      }
    },
    {
      "cell_type": "code",
      "source": [
        "diccionario={1:\"hola\",2:\"mundo\"}\n",
        "diccionario[1]=\"adios\" #aca lo modifique\n",
        "print(diccionario)\n",
        "print(diccionario[1])"
      ],
      "metadata": {
        "colab": {
          "base_uri": "https://localhost:8080/"
        },
        "id": "NYTc7hePLczF",
        "outputId": "682ab868-1a23-440d-d8e5-a2e1e1b3303b"
      },
      "execution_count": null,
      "outputs": [
        {
          "output_type": "stream",
          "name": "stdout",
          "text": [
            "{1: 'adios', 2: 'mundo'}\n",
            "adios\n"
          ]
        }
      ]
    },
    {
      "cell_type": "code",
      "source": [
        "amigos = {\n",
        "    \"juan\":(25, \"marzo\", \"nos conocimos en la primaria\"),\n",
        "    \"pedro\":(28, \"diciembre\", \"nos conocimos en un cumpleaños\"),\n",
        "    \"maria\": (30, \"marzo\", \"nos conocimos en la facultad\"),\n",
        "    \"ana\":(28, \"noviembre\", \"no recuerdo donde la conoci\"),\n",
        "}\n",
        "\n",
        "#los tipos de datos que tengo son lis\n",
        "print(amigos[\"ana\"])\n",
        "\n",
        "amigos.update( #esta funcion sirve para editar los datos de una clave\n",
        "    {\"ana\":(28, \"noviembre\", \"nos conocimos en un festival\")}\n",
        ") #tengo que poner toda la lista con el nuevo dato modificado\n",
        "#en este caso, como la clave ya existia,el valor anterior es pisado\n",
        "#si era otra clave, se sumaba al diccionario\n",
        "\n",
        "print(amigos[\"ana\"]) #si comienza con minuscula y la quiero modificar, la clave tambien tiene que estar en minuscula\n"
      ],
      "metadata": {
        "colab": {
          "base_uri": "https://localhost:8080/"
        },
        "id": "zXIJ3JRvL6iD",
        "outputId": "0fab35be-5584-447e-93c6-319ad110b24d"
      },
      "execution_count": null,
      "outputs": [
        {
          "output_type": "stream",
          "name": "stdout",
          "text": [
            "(28, 'noviembre', 'no recuerdo donde la conoci')\n",
            "(28, 'noviembre', 'nos conocimos en un festival')\n"
          ]
        }
      ]
    },
    {
      "cell_type": "code",
      "source": [
        "#MÉTODO CLEAR\n",
        "\n",
        "diccionario={1:\"hola\",2:\"mundo\"}\n",
        "diccionario.clear() #limpia el diccionario\n",
        "print(diccionario)\n"
      ],
      "metadata": {
        "colab": {
          "base_uri": "https://localhost:8080/"
        },
        "id": "u5ahhKngSdk9",
        "outputId": "8d0c4827-2cc2-472d-c403-64ede3e64663"
      },
      "execution_count": null,
      "outputs": [
        {
          "output_type": "stream",
          "name": "stdout",
          "text": [
            "{}\n"
          ]
        }
      ]
    },
    {
      "cell_type": "code",
      "source": [
        "#MÉTODO KEY\n",
        "diccionario={1:\"hola\",2:\"mundo\"}\n",
        "print(diccionario.keys()) #imprime la lista de las claves del diccionario"
      ],
      "metadata": {
        "colab": {
          "base_uri": "https://localhost:8080/"
        },
        "id": "ewXiC4hiSys6",
        "outputId": "26925d34-0051-456c-8c5e-d85e74c776a2"
      },
      "execution_count": null,
      "outputs": [
        {
          "output_type": "stream",
          "name": "stdout",
          "text": [
            "dict_keys([1, 2])\n"
          ]
        }
      ]
    },
    {
      "cell_type": "code",
      "source": [
        "#MÉTODO POP\n",
        "diccionario={1:\"hola\",2:\"mundo\"}\n",
        "print(diccionario.pop(1)) #imprime el dato del valor especificado"
      ],
      "metadata": {
        "colab": {
          "base_uri": "https://localhost:8080/"
        },
        "id": "3g2thL_sTKYi",
        "outputId": "1b398f1d-48ef-4ed3-9a93-5a04654399be"
      },
      "execution_count": null,
      "outputs": [
        {
          "output_type": "stream",
          "name": "stdout",
          "text": [
            "hola\n"
          ]
        }
      ]
    },
    {
      "cell_type": "code",
      "source": [
        "#MÉTODO POP ITEM\n",
        "diccionario={1:\"hola\",2:\"mundo\"}\n",
        "print(diccionario.popitem()) #devuelve cualquier par de valor/clave"
      ],
      "metadata": {
        "colab": {
          "base_uri": "https://localhost:8080/"
        },
        "id": "qVy-g4RcThoj",
        "outputId": "07021f98-29ba-4c13-cde1-82e0b3967ed4"
      },
      "execution_count": null,
      "outputs": [
        {
          "output_type": "stream",
          "name": "stdout",
          "text": [
            "(2, 'mundo')\n"
          ]
        }
      ]
    },
    {
      "cell_type": "code",
      "source": [
        "#MÉTODO ITEMS\n",
        "diccionario={1:\"hola\",2:\"mundo\"}\n",
        "print(diccionario.items()) #devuelve una lista de tuplas\n",
        "\n",
        "#EL MÉTODO UPDATE YA FUE EXPLICADO ANTERIORMENTE"
      ],
      "metadata": {
        "colab": {
          "base_uri": "https://localhost:8080/"
        },
        "id": "0uqxFX6vT7-e",
        "outputId": "d5a6022b-aaa7-4551-a81f-ee7f76b3fc7b"
      },
      "execution_count": null,
      "outputs": [
        {
          "output_type": "stream",
          "name": "stdout",
          "text": [
            "dict_items([(1, 'hola'), (2, 'mundo')])\n"
          ]
        }
      ]
    },
    {
      "cell_type": "markdown",
      "source": [
        "EJERCICIO 1"
      ],
      "metadata": {
        "id": "k0sgIBPRXrg9"
      }
    },
    {
      "cell_type": "code",
      "source": [
        "# En un vivero se guardan las plantas en una lista de diccionarios con la\n",
        "# siguiente información: especie, si necesita luz solar o no, y el precio.\n",
        "# Ahora se necesita un sistema que guarde las plantas a medida que van\n",
        "# llegando. Se pide hacer una función que reciba la lista de diccionarios\n",
        "# de plantas, y los datos de la planta nueva y la agregue a la lista de\n",
        "# diccionarios\n",
        "\n",
        "def agregar_planta(lista_plantas, especie, luz_solar, precio):\n",
        "    nueva_planta = {\"especie\": especie, \"luz_solar\": luz_solar, \"precio\": precio}\n",
        "    lista_plantas.append(nueva_planta)\n",
        "lista_plantas = []\n",
        "print(lista_plantas)\n",
        "\n",
        "agregar_planta(lista_plantas, especie=\"rosa\", luz_solar=True, precio=100)\n",
        "print(lista_plantas)"
      ],
      "metadata": {
        "colab": {
          "base_uri": "https://localhost:8080/"
        },
        "id": "Mh1gqkolX6Sd",
        "outputId": "d38273bd-1d6c-4bd8-f1dc-ba28f518703d"
      },
      "execution_count": null,
      "outputs": [
        {
          "output_type": "stream",
          "name": "stdout",
          "text": [
            "[]\n",
            "[{'especie': 'rosa', 'luz_solar': True, 'precio': 100}]\n"
          ]
        }
      ]
    },
    {
      "cell_type": "code",
      "source": [
        "# Un profesor guarda las notas del primer parcial de sus alumnos en una\n",
        "# lista de diccionarios que guarda la siguiente información:\n",
        "# Nombre\n",
        "# Apellido\n",
        "# Intento\n",
        "# Nota\n",
        "# Se pide hacer una funcion que, dado esta lista de diccionarios,\n",
        "# devuelva el promedio de las notas en el primer intento que hicieron.\n",
        "\n",
        "\n",
        "\n"
      ],
      "metadata": {
        "id": "S71KHM5SfsU4"
      },
      "execution_count": null,
      "outputs": []
    }
  ]
}
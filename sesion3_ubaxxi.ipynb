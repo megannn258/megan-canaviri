{
  "nbformat": 4,
  "nbformat_minor": 0,
  "metadata": {
    "colab": {
      "provenance": [],
      "authorship_tag": "ABX9TyMpI45EH6YcQArVYnE8HuSo",
      "include_colab_link": true
    },
    "kernelspec": {
      "name": "python3",
      "display_name": "Python 3"
    },
    "language_info": {
      "name": "python"
    }
  },
  "cells": [
    {
      "cell_type": "markdown",
      "metadata": {
        "id": "view-in-github",
        "colab_type": "text"
      },
      "source": [
        "<a href=\"https://colab.research.google.com/github/megannn258/megan-canaviri/blob/main/sesion3_ubaxxi.ipynb\" target=\"_parent\"><img src=\"https://colab.research.google.com/assets/colab-badge.svg\" alt=\"Open In Colab\"/></a>"
      ]
    },
    {
      "cell_type": "markdown",
      "source": [
        "SESION 3"
      ],
      "metadata": {
        "id": "CRXwDyPHnlU2"
      }
    },
    {
      "cell_type": "code",
      "source": [
        "contador = 0\n",
        "while contador < 7:\n",
        "    contador = contador + 1\n",
        "    print(\"Hola\")\n",
        "\n",
        "# Esto imprimirá \"Hola\" 7 veces (0,1,2,3,4,5,6, o sea 7 veces porque\n",
        "#                                comienza a contar desde el 0)"
      ],
      "metadata": {
        "colab": {
          "base_uri": "https://localhost:8080/"
        },
        "id": "J-0Onw2cwear",
        "outputId": "51941cbf-989f-42f8-9aaf-4715e4752ce2"
      },
      "execution_count": 13,
      "outputs": [
        {
          "output_type": "stream",
          "name": "stdout",
          "text": [
            "Hola\n",
            "Hola\n",
            "Hola\n",
            "Hola\n",
            "Hola\n",
            "Hola\n",
            "Hola\n"
          ]
        }
      ]
    },
    {
      "cell_type": "code",
      "source": [
        "for i in range(5):\n",
        "    print(i)\n",
        "# Esto imprimirá los números del 0 al 4, no incluye al 5"
      ],
      "metadata": {
        "colab": {
          "base_uri": "https://localhost:8080/"
        },
        "id": "mvUaKFg3xtkz",
        "outputId": "67f9af2d-f93f-49ab-9831-18668c030761"
      },
      "execution_count": null,
      "outputs": [
        {
          "output_type": "stream",
          "name": "stdout",
          "text": [
            "0\n",
            "1\n",
            "2\n",
            "3\n",
            "4\n"
          ]
        }
      ]
    },
    {
      "cell_type": "markdown",
      "source": [
        "OPERADORES\n",
        "- aritmeticos + - * /\n",
        "- relacionales (nos permiten comparar) == igual, != distinto, < menor, > mayor, <= menor o igual, >= mayor o igual\n",
        "- logicos (union de operadores) and, or y not\n",
        "\n",
        "los relacionales y logicos nos devuelven valores verdaderos o falsos (true o false)\n",
        "\n",
        "\n"
      ],
      "metadata": {
        "id": "aSIcm4tw8UT2"
      }
    },
    {
      "cell_type": "markdown",
      "source": [
        "EXPRESIONES\n",
        "\n",
        "El valor que devuelve un conjunto de operaciones\n"
      ],
      "metadata": {
        "id": "CeChFSYq9cUM"
      }
    },
    {
      "cell_type": "code",
      "source": [
        "#expresiones, me devuelven verdadero o falso, no puedo preguntar cuanto\n",
        "#es 2+2, tendria que poner 2+2==4??\n",
        "num1 = 10\n",
        "num2 = 20\n",
        "num3 = 5\n",
        "num4 = 2\n",
        "num5 = 1\n",
        "\n",
        "#expresion 1\n",
        "(num1<num2) #true\n",
        "\n",
        "#expresion2\n",
        "(num3*num4==num2) #false\n",
        "\n",
        "#para que un *and* sea verdadero las dos condiciones tienen que ser verdaderas\n",
        "#en un *or* solo basta que uno sea verdadero"
      ],
      "metadata": {
        "colab": {
          "base_uri": "https://localhost:8080/"
        },
        "id": "zrLM9j7a94AM",
        "outputId": "b04afc83-1a0f-4b7b-befc-77f31e0cd1b0"
      },
      "execution_count": 15,
      "outputs": [
        {
          "output_type": "execute_result",
          "data": {
            "text/plain": [
              "False"
            ]
          },
          "metadata": {},
          "execution_count": 15
        }
      ]
    },
    {
      "cell_type": "code",
      "source": [
        "#ESTRUCTURAS DE CONTROL: herramienta para controlar el flujo de mi codigo\n",
        "\n",
        "#ESTRUCTURA CONDICIONAL\n",
        "#IF AND ELSE, ELIF\n",
        "\n",
        "hay_sol = False #como el valor es false seguramente mi codigo va a usar else\n",
        "if hay_sol:\n",
        "  print(\"el sol brilla\")\n",
        "else:\n",
        "  print(\"el sol no brilla\")"
      ],
      "metadata": {
        "colab": {
          "base_uri": "https://localhost:8080/"
        },
        "id": "eGnSuDIsBco_",
        "outputId": "090c3556-e44b-4386-dc3a-f030dfb633b2"
      },
      "execution_count": null,
      "outputs": [
        {
          "output_type": "stream",
          "name": "stdout",
          "text": [
            "el sol no brilla\n"
          ]
        }
      ]
    },
    {
      "cell_type": "code",
      "source": [
        "hay_sol = False\n",
        "hace_frio = True\n",
        "\n",
        "#todos las condiciones de abajo dependen de los valores de las dos\n",
        "#variables de arriba, si cambio unapor false seguramente lo que me\n",
        "#devuelva sea otra cosa\n",
        "\n",
        "if hay_sol and not hace_frio:\n",
        "  print(\"uso gorra y no uso buzo\")\n",
        "elif hay_sol and hace_frio:\n",
        "  print(\"uso gorra y uso buzo\")\n",
        "elif not hay_sol and not hace_frio:\n",
        "  print(\"no uso gorra ni uso buzo\")\n",
        "else:\n",
        "  print(\"no uso gorra y uso buzo\") #refiriendose el if"
      ],
      "metadata": {
        "colab": {
          "base_uri": "https://localhost:8080/"
        },
        "id": "iAxLs0CEE57j",
        "outputId": "c6a74719-ec52-42b6-e1cb-039ea0950034"
      },
      "execution_count": 17,
      "outputs": [
        {
          "output_type": "stream",
          "name": "stdout",
          "text": [
            "no uso gorra y uso buzo\n"
          ]
        }
      ]
    },
    {
      "cell_type": "code",
      "source": [
        "#\n",
        "num1 = int(input(\"ingrese un numero:\"))\n",
        "num2 = int(input(\"ingrese otro numero:\"))\n",
        "\n",
        "def division(num1,num2):\n",
        " if num2 ==0:\n",
        "  return \"error\"\n",
        " else:\n",
        "  return num1/num2  #en visual podria borrar el else y sacar el segundo return afuera de la funcion\n",
        "\n",
        "#ahre mentira no se como seria"
      ],
      "metadata": {
        "colab": {
          "base_uri": "https://localhost:8080/"
        },
        "id": "psgPYAQWG0yS",
        "outputId": "b2d4e73b-c614-4ea4-d46e-4f8b729d638e"
      },
      "execution_count": null,
      "outputs": [
        {
          "name": "stdout",
          "output_type": "stream",
          "text": [
            "ingrese un numero:4\n",
            "ingrese otro numero:2\n"
          ]
        }
      ]
    },
    {
      "cell_type": "code",
      "source": [
        "num1 = int(input(\"ingrese un numero:\"))\n",
        "num2 = int(input(\"ingrese otro numero:\"))\n",
        "\n",
        "def division(num1,num2):\n",
        " if num2 ==0:\n",
        "  print(\"error\")\n",
        " else:\n",
        "  print(num1/num2)\n",
        "\n",
        "division(num1,num2)"
      ],
      "metadata": {
        "colab": {
          "base_uri": "https://localhost:8080/"
        },
        "id": "Eb8qE73aJUrA",
        "outputId": "c01f5566-e4b4-4855-8365-f7f63ef72116"
      },
      "execution_count": null,
      "outputs": [
        {
          "output_type": "stream",
          "name": "stdout",
          "text": [
            "ingrese un numero:9\n",
            "ingrese otro numero:0\n",
            "error\n"
          ]
        }
      ]
    },
    {
      "cell_type": "code",
      "source": [
        "#CONTROL ITERATIVA\n",
        "for i in range(1,11): #el ultimo numero nunca se incluye\n",
        "  print (i)"
      ],
      "metadata": {
        "colab": {
          "base_uri": "https://localhost:8080/"
        },
        "id": "Qz8GrfQQS-NL",
        "outputId": "772ebe67-db9f-44d3-a46e-082d21605288"
      },
      "execution_count": 25,
      "outputs": [
        {
          "output_type": "stream",
          "name": "stdout",
          "text": [
            "1\n",
            "2\n",
            "3\n",
            "4\n",
            "5\n",
            "6\n",
            "7\n",
            "8\n",
            "9\n",
            "10\n"
          ]
        }
      ]
    },
    {
      "cell_type": "code",
      "source": [
        "#otra opcion\n",
        "num = 1\n",
        "while (num < 10):\n",
        "  print(num)\n",
        "  num = num + 1 #es importante cambiar la variable por la cual se chequea la\n",
        "               #la condicion, sino va a ser un bucle infinito\n",
        "#para evitar confusiones dps del while pongo el print asi\n",
        "#comienza desde el valor de mi variable, y dps cambio el loop de la variable\n",
        "#por ejemplo, si ponia el print debajo de todo, iba a comenzar desde el 2 hasta el 10\n",
        "#porque a mi variable ya le hubiese sumado 1 antes de imprimirla"
      ],
      "metadata": {
        "colab": {
          "base_uri": "https://localhost:8080/"
        },
        "id": "HVD2wnwwTs40",
        "outputId": "ed44e4e0-a84b-4dff-974a-35f8f8301da4"
      },
      "execution_count": 35,
      "outputs": [
        {
          "output_type": "stream",
          "name": "stdout",
          "text": [
            "1\n",
            "2\n",
            "3\n",
            "4\n",
            "5\n",
            "6\n",
            "7\n",
            "8\n",
            "9\n"
          ]
        }
      ]
    },
    {
      "cell_type": "code",
      "source": [
        "#y si quiero contar hasta 1000?\n",
        "#ahora con la herramienta for\n",
        "\n",
        "for i in range (6,11, 2):#acordate que el stop num no se incluye\n",
        "  print(i)             #el range sirve un monton para el for\n",
        "#si start no esta especificado va a comenzar desde 0\n",
        "#el tercer numero es cada cuantos pasos escribo lo que me pedis"
      ],
      "metadata": {
        "colab": {
          "base_uri": "https://localhost:8080/"
        },
        "id": "swa9ckKGUk5l",
        "outputId": "e9cfe686-5d53-4fc0-b896-4285217263d8"
      },
      "execution_count": 44,
      "outputs": [
        {
          "output_type": "stream",
          "name": "stdout",
          "text": [
            "6\n",
            "8\n",
            "10\n"
          ]
        }
      ]
    },
    {
      "cell_type": "code",
      "source": [
        "#bucles con while\n",
        "print('Ingresá 5 números enteros')\n",
        "total_mult = 0\n",
        "veces = 1\n",
        "while veces <= 5:\n",
        "  num = int(input('Número: '))\n",
        "  if num % 3 == 0: #este signo % es el resto de tal division\n",
        "   total_mult+=1 #esto es lo mismo que escribir: total_mult = total_mult + 1 #hago esto para poder ir\n",
        "  veces = veces + 1 #esto es lo mismo que veces+=1                            cambiando lo que mi condicion evalua\n",
        "print('Vinieron:',total_mult,'múltiplos de 3')"
      ],
      "metadata": {
        "colab": {
          "base_uri": "https://localhost:8080/"
        },
        "id": "pXq5qu_Dc998",
        "outputId": "1f1b36a6-f3cb-4f34-c381-dfb55cb51890"
      },
      "execution_count": 47,
      "outputs": [
        {
          "output_type": "stream",
          "name": "stdout",
          "text": [
            "Ingresá 5 números enteros\n",
            "Número: 3\n",
            "Número: 6\n",
            "Número: 9\n",
            "Número: 12\n",
            "Número: 15\n",
            "Vinieron: 5 múltiplos de 3\n"
          ]
        }
      ]
    },
    {
      "cell_type": "code",
      "source": [
        "# Imprime saludo por pantalla hasta que usuario ingresa X\n",
        "print('Te saludo hasta que me dejes')\n",
        "respuesta = \"S\"\n",
        "while (respuesta != \"X\"):\n",
        "  print(\"¡Hola!\")\n",
        "  respuesta = input(\"¿Querés otro saludo? Ingresá X si la respuesta es no \")\n",
        "\n",
        "  #EN LO POSIBLE REPASAR ESTE CODIGO DESPUÉS"
      ],
      "metadata": {
        "colab": {
          "base_uri": "https://localhost:8080/"
        },
        "id": "CuYkQoc8l199",
        "outputId": "47f109a9-7909-4ffb-afd0-1f12c5f45611"
      },
      "execution_count": 52,
      "outputs": [
        {
          "name": "stdout",
          "output_type": "stream",
          "text": [
            "Te saludo hasta que me dejes\n",
            "¡Hola!\n",
            "¿Querés otro saludo? Ingresá X si la respuesta es no X\n"
          ]
        }
      ]
    },
    {
      "cell_type": "code",
      "source": [
        "#BREAK Y CONTINUE\n",
        "#break\n",
        "numero = 10\n",
        "while numero <=20:\n",
        " if numero % 3 == 0:\n",
        "  print(\"El primer número múltiplo de 3 es:\", numero)\n",
        "  break #este break solo te devuelve el primer resultado\n",
        " numero = numero + 1"
      ],
      "metadata": {
        "colab": {
          "base_uri": "https://localhost:8080/"
        },
        "id": "cKTuRdFym1jA",
        "outputId": "b754e3c8-0061-4ba5-b57a-685078ce1dc5"
      },
      "execution_count": 61,
      "outputs": [
        {
          "output_type": "stream",
          "name": "stdout",
          "text": [
            "El primer número múltiplo de 3 es: 12\n"
          ]
        }
      ]
    },
    {
      "cell_type": "code",
      "source": [
        "#si no tuvisese break\n",
        "numero = 10\n",
        "while numero <=20:\n",
        "  if numero % 3==0: #el resto entre la division del numero y 3 tiene que ser 0\n",
        "    print(numero,  \"es multiplo de 3\")\n",
        "  numero = numero + 1 #aca voy cambiando la variable para que reevaluen mi condicion"
      ],
      "metadata": {
        "colab": {
          "base_uri": "https://localhost:8080/"
        },
        "id": "jw1bcL9noi4Q",
        "outputId": "4f3d9e94-95bc-40d3-e61a-26045c4d9921"
      },
      "execution_count": 62,
      "outputs": [
        {
          "output_type": "stream",
          "name": "stdout",
          "text": [
            "12 es multiplo de 3\n",
            "15 es multiplo de 3\n",
            "18 es multiplo de 3\n"
          ]
        }
      ]
    },
    {
      "cell_type": "code",
      "source": [
        "#continue\n",
        "numero = 1\n",
        "while numero <= 10:\n",
        " if numero % 2 == 0: # Si es par, suma 1 y saltar a la siguiente iteración\n",
        "  numero = numero + 1\n",
        "  continue\n",
        " print(numero) #Esta línea solo se ejecuta si la condición if (que verifica si los\n",
        "               #números son pares) es falsa, lo que significa que el número es impar.\n",
        "               #si la condicion es verdadero se ejecuta el continue y hace que el bucle salte al while\n",
        " numero = numero + 1 #si es impar, lo imprime y le suma 1"
      ],
      "metadata": {
        "colab": {
          "base_uri": "https://localhost:8080/"
        },
        "id": "IJctYVz0pvEi",
        "outputId": "b7d65c74-cf2e-4e18-ece0-84a5b6913b67"
      },
      "execution_count": 64,
      "outputs": [
        {
          "output_type": "stream",
          "name": "stdout",
          "text": [
            "1\n",
            "3\n",
            "5\n",
            "7\n",
            "9\n"
          ]
        }
      ]
    },
    {
      "cell_type": "markdown",
      "source": [
        "**continue:** Salta a la siguiente iteración del bucle.\n",
        "\n",
        "**break:** Sale completamente del bucle."
      ],
      "metadata": {
        "id": "_nVT9mj0uvFy"
      }
    },
    {
      "cell_type": "code",
      "source": [
        "# Contemos cuántos múltiplos de 3 ingresan en un lote de 5 números\n",
        "print('Ingresá 5 Números enteros')\n",
        "total_mult = 0 #esta variable se va a usar para saber cuantos de los numeros\n",
        "               #ingresados por el usuario son multiplos de 3\n",
        "for vuelta in range(5): #aca el rango va de 0 a 4, o sea se va a ejecutar 5 veces\n",
        "                        #la variable vuelta no se usa directamente dentro del bucle\n",
        "                        #solo sirve para controlar cuantas veces se repite el bucle\n",
        "  num=int(input('Número: '))\n",
        "  if num % 3 == 0:\n",
        "    total_mult = total_mult + 1\n",
        "print('Vinieron:',total_mult,'múltiplos de 3') #ejecuta este print cuando el\n",
        "                                               #usuario ingreso los 5 numeros"
      ],
      "metadata": {
        "colab": {
          "base_uri": "https://localhost:8080/"
        },
        "id": "OMQbWjT9t2NC",
        "outputId": "204b1493-8cc4-42d5-d628-03a95e3a2db4"
      },
      "execution_count": 65,
      "outputs": [
        {
          "output_type": "stream",
          "name": "stdout",
          "text": [
            "Ingresá 5 Números enteros\n",
            "Número: 3\n",
            "Número: 4\n",
            "Número: 5\n",
            "Número: 1\n",
            "Número: 3\n",
            "Vinieron: 2 múltiplos de 3\n"
          ]
        }
      ]
    },
    {
      "cell_type": "markdown",
      "source": [
        "EJERCICIOS"
      ],
      "metadata": {
        "id": "n376ywGx0Jyj"
      }
    },
    {
      "cell_type": "code",
      "source": [
        "#estructuras de control condicionales\n",
        "\n",
        "# Crear el programa al que sea imposible ganarle en el juego de\n",
        "# pieda papel o tijera. R=pieda, P=papel y T=tijera.\n",
        "# a) Hacer una funcion que le haga al usuario ingresar algunas\n",
        "# de esas letras e imprima por pantalla la jugada para ganarle.\n",
        "# ej: >¡juguemos! ingresa piedra (r), papel (p) o tijera (t)\n",
        "#    >P\n",
        "#    >Tijera, te gane\n",
        "# b)mostras por pantalla el mensaje \" no vale\" cuando el usuario\n",
        "# ingrese una letra no valida (distinta a r, p y t)\n",
        "\n",
        "def juego():\n",
        "  elemento = input(\"juguemos! ingresa piedra, papel o tijera: \")\n",
        "  if elemento == \"piedra\":\n",
        "    print (\"papel, te gane jaja\")\n",
        "  elif elemento == \"papel\":\n",
        "    print (\"tijera, te gane jaja\")\n",
        "  elif elemento == \"tijera\":\n",
        "    print (\"piedra, te gane jaja\")\n",
        "  else:\n",
        "    print (\"no vale\")\n",
        "\n",
        "juego()"
      ],
      "metadata": {
        "colab": {
          "base_uri": "https://localhost:8080/"
        },
        "id": "ocl6FCW90Mnm",
        "outputId": "3817fad4-e970-4e1d-8f7e-ef9beecae10d"
      },
      "execution_count": 75,
      "outputs": [
        {
          "output_type": "stream",
          "name": "stdout",
          "text": [
            "juguemos! ingresa piedra, papel o tijera: piedra\n",
            "papel, te gane jaja\n"
          ]
        }
      ]
    },
    {
      "cell_type": "code",
      "source": [
        "#estructuras de control iterativas\n",
        "\n",
        "# Crear una funcion que reciba un numero entero e\n",
        "# imprima por pantalla la tabla de ese numero del 1 al 10\n",
        "\n",
        "def tabla():\n",
        "  numero = int(input(\"ingrese un numero: \"))\n",
        "  for i in range (1,11): #del 1 al 10, el 11 no esta incluido\n",
        "    print(numero, \"x\", i, \"=\", numero*i)\n",
        "\n",
        "tabla()\n"
      ],
      "metadata": {
        "colab": {
          "base_uri": "https://localhost:8080/"
        },
        "id": "JiQJcw8P461e",
        "outputId": "3bef8f13-b563-48d1-dd96-f67215e6f5a0"
      },
      "execution_count": 77,
      "outputs": [
        {
          "output_type": "stream",
          "name": "stdout",
          "text": [
            "ingrese un numero: 5\n",
            "5 x 1 = 5\n",
            "5 x 2 = 10\n",
            "5 x 3 = 15\n",
            "5 x 4 = 20\n",
            "5 x 5 = 25\n",
            "5 x 6 = 30\n",
            "5 x 7 = 35\n",
            "5 x 8 = 40\n",
            "5 x 9 = 45\n",
            "5 x 10 = 50\n"
          ]
        }
      ]
    },
    {
      "cell_type": "code",
      "source": [
        "#otra forma sin pedirle datos al usuario\n",
        "def tabla(numero):\n",
        "  for i in range (1,11):\n",
        "    print(numero*i)\n",
        "tabla(4)"
      ],
      "metadata": {
        "colab": {
          "base_uri": "https://localhost:8080/"
        },
        "id": "KEuLW91M7Ovl",
        "outputId": "dd33e919-faef-4a67-c113-68776b5d69b8"
      },
      "execution_count": 80,
      "outputs": [
        {
          "output_type": "stream",
          "name": "stdout",
          "text": [
            "4\n",
            "8\n",
            "12\n",
            "16\n",
            "20\n",
            "24\n",
            "28\n",
            "32\n",
            "36\n",
            "40\n"
          ]
        }
      ]
    },
    {
      "cell_type": "code",
      "source": [
        "# estruturas de control condicionales e iterativas\n",
        "# 13. Se tiene una máquina de sacar juguetes que funciona cuando se ingresa una determinada cantidad de\n",
        "# fichas, y se quiere hacer una función que imite ese comportamiento.\n",
        "# a. Hacer una función que reciba un número que represente el precio de la máquina, e imprima\n",
        "# por pantalla “Ingresá x fichas para comenzar” hasta que se hayan ingresado esa cantidad de\n",
        "# letras F (que representan una ficha), y luego “¡A jugar!” cuando se hayan ingresado todas las\n",
        "# fichas necesarias. Por ejemplo, si la función recibe 3, debería tener el siguiente\n",
        "# comportamiento:\n",
        "# > Ingresá 3 fichas para comenzar\n",
        "# > F\n",
        "# > Ingresá 3 fichas para comenzar\n",
        "# > F\n",
        "# > Ingresá 3 fichas para comenzar\n",
        "# > B\n",
        "# > Ingresá 3 fichas para comenzar\n",
        "# > F\n",
        "# > ¡A jugar!\n",
        "\n",
        "def juego(cant_fichas): #es el parametro que voy a aclarar dps\n",
        "  fichas_ingresadas = 0 #para dps modificarlo\n",
        "  while fichas_ingresadas < cant_fichas: #o sea cuando la cantidad de fichas ingresadas\n",
        "                                         #sea igual a la cant de fichas comienza el juego\n",
        "   print(\"Ingresa\", cant_fichas, \"fichas para comenzar: (1 ficha = F)\")\n",
        "   letra = input()\n",
        "   if letra ==\"F\":\n",
        "    fichas_ingresadas = fichas_ingresadas + 1 #hasta que sea igual a la cantidad de fichas\n",
        "  print(\"¡A jugar!\")\n",
        "\n",
        "juego(2)\n"
      ],
      "metadata": {
        "colab": {
          "base_uri": "https://localhost:8080/"
        },
        "id": "kgypEjmD7hCW",
        "outputId": "00b50bdd-3634-4f51-b9cb-aa60fa4907bb"
      },
      "execution_count": 94,
      "outputs": [
        {
          "output_type": "stream",
          "name": "stdout",
          "text": [
            "Ingresa 2 fichas para comenzar: (1 ficha = F)\n",
            "F\n",
            "Ingresa 2 fichas para comenzar: (1 ficha = F)\n",
            "F\n",
            "¡A jugar!\n"
          ]
        }
      ]
    },
    {
      "cell_type": "code",
      "source": [
        "for i in range(25,10,-5): #imprime el numero 25, 20 y 15,el 10 ya no se incluiria\n",
        "\n",
        "  print(\"iterando\")"
      ],
      "metadata": {
        "colab": {
          "base_uri": "https://localhost:8080/"
        },
        "id": "ReS_loTrH4aL",
        "outputId": "d99046b3-c584-4ca7-d12c-a0cd6e459b6f"
      },
      "execution_count": 95,
      "outputs": [
        {
          "output_type": "stream",
          "name": "stdout",
          "text": [
            "iterando\n",
            "iterando\n",
            "iterando\n"
          ]
        }
      ]
    }
  ]
}
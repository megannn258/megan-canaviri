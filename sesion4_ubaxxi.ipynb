{
  "nbformat": 4,
  "nbformat_minor": 0,
  "metadata": {
    "colab": {
      "provenance": [],
      "authorship_tag": "ABX9TyNktYsllxdIsjLV1NUAZu26",
      "include_colab_link": true
    },
    "kernelspec": {
      "name": "python3",
      "display_name": "Python 3"
    },
    "language_info": {
      "name": "python"
    }
  },
  "cells": [
    {
      "cell_type": "markdown",
      "metadata": {
        "id": "view-in-github",
        "colab_type": "text"
      },
      "source": [
        "<a href=\"https://colab.research.google.com/github/megannn258/megan-canaviri/blob/main/sesion4_ubaxxi.ipynb\" target=\"_parent\"><img src=\"https://colab.research.google.com/assets/colab-badge.svg\" alt=\"Open In Colab\"/></a>"
      ]
    },
    {
      "cell_type": "markdown",
      "source": [
        "SESION 4\n",
        "Secuencias = strings, tuplas y listas"
      ],
      "metadata": {
        "id": "Uk-NKaylMoW0"
      }
    },
    {
      "cell_type": "code",
      "source": [
        "#Secuencia = secuencia de datos\n",
        "# ejemplo =\n",
        "# *strings* = secuencia de cadenas, solo letras\n",
        "# *tuplas* = son inmutables (puede contener distintas cosas, numeros letras, lista)\n",
        "# las tuplas pueden contener distintos datos, obvio también los mismos\n",
        "# *listas* = son mutables, le puedo agregar/sacar un elemento"
      ],
      "metadata": {
        "id": "w0vXtBWuMqi3"
      },
      "execution_count": null,
      "outputs": []
    },
    {
      "cell_type": "code",
      "source": [
        "# las tuplas siempre van con parentesis\n",
        "tupla_vacia = ()\n",
        "print(\"tupla vacia\", tupla_vacia)\n",
        "\n",
        "lista_vacia = [] #las listas van con corchetes\n",
        "print(\"lista vacia\", lista_vacia)"
      ],
      "metadata": {
        "colab": {
          "base_uri": "https://localhost:8080/"
        },
        "id": "GKASBgSuON45",
        "outputId": "ede70b20-cb5b-47be-c9bc-6f788b9dc605"
      },
      "execution_count": null,
      "outputs": [
        {
          "output_type": "stream",
          "name": "stdout",
          "text": [
            "tupla vacia ()\n",
            "lista vacia []\n"
          ]
        }
      ]
    },
    {
      "cell_type": "code",
      "source": [
        "tupla_1 = (\"pensamiento\") #hay que poner una coma para no confundirla con un elemento\n",
        "print(tupla_1)"
      ],
      "metadata": {
        "colab": {
          "base_uri": "https://localhost:8080/"
        },
        "id": "A2r21jl1PThN",
        "outputId": "2b006952-82dd-4ad5-c8aa-d242fbaed3c7"
      },
      "execution_count": null,
      "outputs": [
        {
          "output_type": "stream",
          "name": "stdout",
          "text": [
            "pensamiento\n"
          ]
        }
      ]
    },
    {
      "cell_type": "code",
      "source": [
        "#aca se ve con COMA\n",
        "tupla_1 = (\"pensamiento\",) #hay que poner una coma para no confundirla con un elemento\n",
        "print(\"tupla 1: \", tupla_1)"
      ],
      "metadata": {
        "colab": {
          "base_uri": "https://localhost:8080/"
        },
        "id": "zcpHv46fPoGq",
        "outputId": "6fb72f65-99ec-4db8-a1ea-f7381d4e3139"
      },
      "execution_count": null,
      "outputs": [
        {
          "output_type": "stream",
          "name": "stdout",
          "text": [
            "tupla 1:  ('pensamiento',)\n"
          ]
        }
      ]
    },
    {
      "cell_type": "code",
      "source": [
        "#las listas van con corchetes y no llevan COMA como las tuplas\n",
        "lista_1 = [\"pensamiento\"]\n",
        "print(\"tupla 1 = \", lista_1)"
      ],
      "metadata": {
        "colab": {
          "base_uri": "https://localhost:8080/"
        },
        "id": "gUb3KoedQHMG",
        "outputId": "cb028483-f9f4-4fcd-ed0b-f42ada62791a"
      },
      "execution_count": null,
      "outputs": [
        {
          "output_type": "stream",
          "name": "stdout",
          "text": [
            "tupla 1 =  ['pensamiento']\n"
          ]
        }
      ]
    },
    {
      "cell_type": "code",
      "source": [
        "tupla_varios_elementos = (2, \"ok\", 34, [1,2])\n",
        "print(tupla_varios_elementos)\n",
        "#mezclamos tuplas y listas"
      ],
      "metadata": {
        "colab": {
          "base_uri": "https://localhost:8080/"
        },
        "id": "xDXYPVK0QlOB",
        "outputId": "2dfd2d6e-dbd6-4a22-bcc2-3139201a2a9d"
      },
      "execution_count": null,
      "outputs": [
        {
          "output_type": "stream",
          "name": "stdout",
          "text": [
            "(2, 'ok', 34, [1, 2])\n"
          ]
        }
      ]
    },
    {
      "cell_type": "code",
      "source": [
        "lista_varios_elementos = [1, 45.434, \"meg\", [\"pensamiento\", \"computacional\"]]\n",
        "print (lista_varios_elementos)\n",
        "#aca puse una lista con una lista"
      ],
      "metadata": {
        "colab": {
          "base_uri": "https://localhost:8080/"
        },
        "id": "s-jx1NHzQv9c",
        "outputId": "4c8722b5-1f5d-40c3-a1e4-02251d37a974"
      },
      "execution_count": null,
      "outputs": [
        {
          "output_type": "stream",
          "name": "stdout",
          "text": [
            "[1, 45.434, 'meg', ['pensamiento', 'computacional']]\n"
          ]
        }
      ]
    },
    {
      "cell_type": "code",
      "source": [
        "tupla = (\"Pensamiento\", 56, \"a\", [1,2])\n",
        "\n",
        "lista = [\"Pensamiento\", 87, 475.32443, [\"pensamiento\", \"computacional\"]]\n",
        "\n",
        "#puedo llamar a un elemento ya sea de la lista o de la tupla\n",
        "\n",
        "elemento_0_tupla = tupla[0] #la posicion 0 de la tupla\n",
        "print(\"elemento 0 de la tupla = \", elemento_0_tupla)\n",
        "\n",
        "elemento_3_lista = lista[3] #la posicion 0 de la lista\n",
        "print(\"elemento 3 de la lista = \", elemento_3_lista[1]) #siempre comienza a contar desde el 0\n",
        "                                 #ese [1] me nombra al 1er elemento de la sublista"
      ],
      "metadata": {
        "colab": {
          "base_uri": "https://localhost:8080/"
        },
        "id": "1fVDCBsuRhx3",
        "outputId": "037ab351-7d3a-4baf-f045-3ffda012086b"
      },
      "execution_count": null,
      "outputs": [
        {
          "output_type": "stream",
          "name": "stdout",
          "text": [
            "elemento 0 de la tupla =  Pensamiento\n",
            "elemento 3 de la lista =  computacional\n"
          ]
        }
      ]
    },
    {
      "cell_type": "code",
      "source": [
        "fecha = (12, \"junio\", 1970)\n",
        "print(fecha)\n",
        "dia = fecha[0]\n",
        "mes = fecha [1]\n",
        "anio = fecha[2]\n",
        "print(dia)\n",
        "print(mes)\n",
        "print(anio)\n",
        "#aca le digo al programa que lugar ocupa cada dato en la tupla y le pido que lo imprima\n",
        "#pero hay una manera de hacerlo mas simple:"
      ],
      "metadata": {
        "colab": {
          "base_uri": "https://localhost:8080/"
        },
        "id": "PcZfyfSaTbVX",
        "outputId": "086174d1-3fcc-45ee-ab95-3333748ef32b"
      },
      "execution_count": null,
      "outputs": [
        {
          "output_type": "stream",
          "name": "stdout",
          "text": [
            "(12, 'junio', 1970)\n",
            "12\n",
            "junio\n",
            "1970\n"
          ]
        }
      ]
    },
    {
      "cell_type": "code",
      "source": [
        "#esta es la manera (sirve para las listas y tuplas)\n",
        "fecha = (12, \"junio\", 1970)\n",
        "dia, mes, anio = fecha\n",
        "print(mes)\n",
        "print(dia)"
      ],
      "metadata": {
        "colab": {
          "base_uri": "https://localhost:8080/"
        },
        "id": "aA5YHoU5UXFE",
        "outputId": "243e59eb-c9f7-4c63-e339-52061e3b71e5"
      },
      "execution_count": null,
      "outputs": [
        {
          "output_type": "stream",
          "name": "stdout",
          "text": [
            "junio\n",
            "12\n"
          ]
        }
      ]
    },
    {
      "cell_type": "code",
      "source": [
        "#voy a crear una lista de tuplas\n",
        "#parecido a un tabla de valores\n",
        "\n",
        "puntos = [\n",
        "    (4,6),\n",
        "    (8,2),\n",
        "    (10,5),\n",
        "    (1,1),\n",
        "    (0,7),\n",
        "    (0,0),\n",
        "    (2,3),\n",
        "    (2,2)\n",
        "]\n",
        "for punto in puntos:\n",
        "  print(punto)\n"
      ],
      "metadata": {
        "colab": {
          "base_uri": "https://localhost:8080/"
        },
        "id": "XgLJwC8DUxAb",
        "outputId": "18ed9d63-56a7-46cc-b89a-10a2b789c7fb"
      },
      "execution_count": null,
      "outputs": [
        {
          "output_type": "stream",
          "name": "stdout",
          "text": [
            "(4, 6)\n",
            "(8, 2)\n",
            "(10, 5)\n",
            "(1, 1)\n",
            "(0, 7)\n",
            "(0, 0)\n",
            "(2, 3)\n",
            "(2, 2)\n"
          ]
        }
      ]
    },
    {
      "cell_type": "code",
      "source": [
        "#otra opcion mas buena\n",
        "\n",
        "puntos = [\n",
        "    (4,6),\n",
        "    (8,2),\n",
        "    (9,5),\n",
        "    (1,1),\n",
        "    (0,7),\n",
        "    (0,0),\n",
        "    (2,3),\n",
        "    (2,2)\n",
        "]\n",
        "\n",
        "puntos.append((50,50)) #esta pone una tupla al final\n",
        "puntos.insert(4,(80,80)) #esta pone en la posicion 4 otra tupla\n",
        "              #el 4 seria la posicion\n",
        "puntos.remove((0,7)) #este elimina una tupla\n",
        "\n",
        "#esto lo puedo hacer porque estoy modificando una lista, en una tupla no se podria hacer\n",
        "\n",
        "for punto in puntos:\n",
        "  x,y = punto #o sea cada tupla tiene esta forma\n",
        "  print(\"x:\",x, \" & \", \"y:\",y)"
      ],
      "metadata": {
        "colab": {
          "base_uri": "https://localhost:8080/"
        },
        "id": "5IMnuA1LV1Vn",
        "outputId": "15238524-7a10-419d-ed80-746d1699c8ef"
      },
      "execution_count": null,
      "outputs": [
        {
          "output_type": "stream",
          "name": "stdout",
          "text": [
            "x: 4  &  y: 6\n",
            "x: 8  &  y: 2\n",
            "x: 9  &  y: 5\n",
            "x: 1  &  y: 1\n",
            "x: 80  &  y: 80\n",
            "x: 0  &  y: 0\n",
            "x: 2  &  y: 3\n",
            "x: 2  &  y: 2\n",
            "x: 50  &  y: 50\n"
          ]
        }
      ]
    },
    {
      "cell_type": "code",
      "source": [
        "#creo la funcion para llamarla después\n",
        "def menu(opciones):\n",
        "# arma menú de opciones y devuelve selección entera\n",
        "# recibe tupla con opciones de menú, cuando llamamos a la funcion en base al parametro (tuplas)\n",
        " print('Selecciona una opción')\n",
        " for i in range(1,len(opciones)): #len(opciones) = obtiene la cantidad de elementos de la secuencua de opciones\n",
        "                                #range blablabla crea una secuencia que va de 1 hasta el numero de elementos de opciones\n",
        "  print(i,'-',opciones[i])\n",
        " opc=int(input())\n",
        " while opc not in range(1,len(opciones)):#esto me asegura que si el usuario ingreso una opcion que no esta\n",
        "                                         #tenga que volver a ingresar otra opcion\n",
        "  opc=int(input())\n",
        " return opc\n",
        "\n",
        "#la funcion va a funcionar hasta que la llame\n",
        "#opciones es una variable que voy a poder reemplazar, cuando llame a la funcion, por las siguientes tuplas\n",
        "\n",
        "quesos=('','cheddar','dambo','muzzarela','brie','cremoso','sin queso')\n",
        "panes=('','semillas','árabe','centeno','pebete','francés')\n",
        "carnes=('','hamburguesa','jamón cocido','jamón crudo','lomito','salchicha','mortadela','veggie')\n",
        "salsas=('','mayonesa','guacamole','ketchup','salsa golf','barbacoa',\n",
        "'ranch','sin salsa')\n",
        "acomp=('','tomate','lechuga','pepinillos','verduras cocidas',\n",
        "'berenjena escabeche','sin extras')\n",
        "\n",
        "print('Armá tu sandwich')\n",
        "op1=menu(panes) #aca llamo a la funcion con el parametro de la listade panes\n",
        "op2=menu(carnes) #aca llamo a la funcion evaluando la lista de quesos\n",
        "op3=menu(quesos) #aca lo mismo pero con quesos\n",
        "op4=menu(acomp) #aca lo mismo pero con acompañamientos\n",
        "op5=menu(salsas) #y aca con salsas\n",
        "print('Tu pedido de sandwich de pan',panes[op1],'saldrá pronto')\n",
        "print('Detalle:',carnes[op2],quesos[op3],acomp[op4],salsas[op5],sep='\\n')\n",
        "# sep='\\n' hace que cada uno de los elementos del detalle se imprima en una nueva línea.\n"
      ],
      "metadata": {
        "colab": {
          "base_uri": "https://localhost:8080/"
        },
        "id": "SX8vJRpWcXh4",
        "outputId": "11c8058a-0ed9-422a-eb52-03d1c2ace84c"
      },
      "execution_count": 119,
      "outputs": [
        {
          "output_type": "stream",
          "name": "stdout",
          "text": [
            "Armá tu sandwich\n",
            "Selecciona una opción\n",
            "1 - semillas\n",
            "2 - árabe\n",
            "3 - centeno\n",
            "4 - pebete\n",
            "5 - francés\n",
            "2\n",
            "Selecciona una opción\n",
            "1 - hamburguesa\n",
            "2 - jamón cocido\n",
            "3 - jamón crudo\n",
            "4 - lomito\n",
            "5 - salchicha\n",
            "6 - mortadela\n",
            "7 - veggie\n",
            "3\n",
            "Selecciona una opción\n",
            "1 - cheddar\n",
            "2 - dambo\n",
            "3 - muzzarela\n",
            "4 - brie\n",
            "5 - cremoso\n",
            "6 - sin queso\n",
            "4\n",
            "Selecciona una opción\n",
            "1 - tomate\n",
            "2 - lechuga\n",
            "3 - pepinillos\n",
            "4 - verduras cocidas\n",
            "5 - berenjena escabeche\n",
            "6 - sin extras\n",
            "5\n",
            "Selecciona una opción\n",
            "1 - mayonesa\n",
            "2 - guacamole\n",
            "3 - ketchup\n",
            "4 - salsa golf\n",
            "5 - barbacoa\n",
            "6 - ranch\n",
            "7 - sin salsa\n",
            "3\n",
            "Tu pedido de sandwich de pan árabe saldrá pronto\n",
            "Detalle:\n",
            "jamón crudo\n",
            "brie\n",
            "berenjena escabeche\n",
            "ketchup\n"
          ]
        }
      ]
    },
    {
      "cell_type": "code",
      "source": [
        "lis=[1,2,'ya']\n",
        "print(lis)\n",
        "lis[2]=3 #aca la modifico\n",
        "print(lis) #y aca se imprime directamente con lo que edite\n",
        "\n",
        "#esto es valido solo en las listas por que es mutable, en la tuplas no se puede\n",
        "#porque son inmutables"
      ],
      "metadata": {
        "id": "sgeXPhe5jJHi"
      },
      "execution_count": null,
      "outputs": []
    },
    {
      "cell_type": "code",
      "source": [
        "s = [1,2,3]\n",
        "len(s) #devuelve la longitud de s"
      ],
      "metadata": {
        "id": "m6JUIE0bllWf"
      },
      "execution_count": null,
      "outputs": []
    },
    {
      "cell_type": "code",
      "source": [
        "s = [1,0,3]\n",
        "min(s) #devuelve el minimo elemento de s"
      ],
      "metadata": {
        "id": "0NdTnNi5mSkj"
      },
      "execution_count": null,
      "outputs": []
    },
    {
      "cell_type": "code",
      "source": [
        "s = [1,4,3]\n",
        "max(s) #devuelve el maximo de la lista"
      ],
      "metadata": {
        "id": "sgS0EnqCmc6A"
      },
      "execution_count": null,
      "outputs": []
    },
    {
      "cell_type": "code",
      "source": [
        "s = [1,67,553,2,4,7,100,3]\n",
        "sorted(s) #esta funcion sirve para tuplas, lista, etc\n",
        "#este me ordena los numeros de menor a mayor, o sea en forma de lista"
      ],
      "metadata": {
        "id": "lG4hAF6NmjP2"
      },
      "execution_count": null,
      "outputs": []
    },
    {
      "cell_type": "code",
      "source": [
        "s = [5,6,2,3]\n",
        "reversed(s) #este revierte la lista\n",
        "list(reversed(s)) #aca la convierto en una nueva lista"
      ],
      "metadata": {
        "id": "eCDvzrk_m5Zj"
      },
      "execution_count": null,
      "outputs": []
    },
    {
      "cell_type": "code",
      "source": [
        "# Define la variable x\n",
        "x = 4\n",
        "\n",
        "# Crea la lista s incluyendo x\n",
        "s = [1, 2, 3, x]\n",
        "\n",
        "# Cuenta cuántas veces aparece x en la lista s\n",
        "print(s.count(x))"
      ],
      "metadata": {
        "id": "pfEfQUnYni2X"
      },
      "execution_count": null,
      "outputs": []
    },
    {
      "cell_type": "code",
      "source": [
        "#herramientas exclusivas de la listas\n",
        "s = [1,2,3,\"b\"]\n",
        "print(s)\n",
        "s.append(5) #este append agrega un valor al final de la lista\n",
        "print(s)\n",
        "\n",
        "#antes de llamar a una herramienta tenemos que aclarar a que lista hace referencia"
      ],
      "metadata": {
        "id": "K03-AGf9I-mA"
      },
      "execution_count": null,
      "outputs": []
    },
    {
      "cell_type": "code",
      "source": [
        "#otra herramienta\n",
        "s = [1,2,3,\"b\"]\n",
        "print(s)\n",
        "s.insert(0,10) #inserta un 10 en la posicion 0\n",
        "print(s)\n",
        "s.insert(2,10) #inserta un 10 en la posicion 2 de la mueva lista\n",
        "print(s)\n"
      ],
      "metadata": {
        "id": "-Ko2FcAqKMv-"
      },
      "execution_count": null,
      "outputs": []
    },
    {
      "cell_type": "code",
      "source": [
        "#otra herramienta\n",
        "s = [1,2,3,\"b\"]\n",
        "print(s)\n",
        "s.remove(2) #esto elimina al 2 de la lista\n",
        "print(s)"
      ],
      "metadata": {
        "id": "OK6TBJ9dK0l3"
      },
      "execution_count": null,
      "outputs": []
    },
    {
      "cell_type": "code",
      "source": [
        "#pop\n",
        "s = [1,2,3,\"b\"]\n",
        "print(s)\n",
        "s.pop() #esto elimina el ultimo elemento de la lista\n",
        "print(s)\n"
      ],
      "metadata": {
        "id": "NZCsdM8aLI57"
      },
      "execution_count": null,
      "outputs": []
    },
    {
      "cell_type": "code",
      "source": [
        "#extend= agrega los elementos de otra lista al final de la lista\n",
        "s = [1,2,3,\"b\"]\n",
        "print(s)\n",
        "s.extend([4,5]) #va a agrega el 4 y 5 al final de mi lista s\n",
        "print(s)"
      ],
      "metadata": {
        "id": "3OOabcAyLViM"
      },
      "execution_count": null,
      "outputs": []
    },
    {
      "cell_type": "code",
      "source": [
        "#otra herramienta\n",
        "s = [1,4,3] # Eliminé \"b\" ya que sort() no puede ordenar números y strings juntos por defecto\n",
        "print(s)\n",
        "s.sort()\n",
        "print(s) #esta funcion ordena de menor a mayor"
      ],
      "metadata": {
        "id": "ug9Q0bk_LnWs"
      },
      "execution_count": null,
      "outputs": []
    },
    {
      "cell_type": "code",
      "source": [
        "#¿como cargamos una lista con datos ingresados por el usuario'\n",
        "#¿como mostramos el contenido de una lista?\n",
        "nombres=[] #creamos una lista vacia donde se almacenaran los nombres que ingrese el usuario\n",
        "nom=input('Ingrese un nombre, * para salir: ')\n",
        "while nom!='*':\n",
        " nombres.append(nom)#esta funcion agrega los el contenido de la variable nom\n",
        " nom=input('Ingrese un nombre, * para salir: ')\n",
        "print('Lista de Nombres')\n",
        "print(nombres)\n",
        "print('Salida detallada')\n",
        "for n in (nombres):#para cada valor de la lista nombres\n",
        " print(n) #imprime lo valores de lista=nombres\n"
      ],
      "metadata": {
        "id": "XQAMwMH7NPOW"
      },
      "execution_count": null,
      "outputs": []
    },
    {
      "cell_type": "code",
      "source": [
        "#ejemplo tupla dentro de una lista\n",
        "lis=[1,(1,0,2),3]\n",
        "print(lis)\n",
        "lis[1][2] #esto toma el 1er elemento de la lista (la tupla) y dps toma el 2do valor\n",
        "#de la tupla (acordate que se empieza a contar desde el 0)"
      ],
      "metadata": {
        "id": "ehXudlTlORj9"
      },
      "execution_count": null,
      "outputs": []
    },
    {
      "cell_type": "code",
      "source": [
        "lis=[('uno', 'dos', 'tres'),(1,2,3)]\n",
        "lis[0][0][0]\n",
        "#hago referencia a la primer letra del primer elemento de la primer tupla"
      ],
      "metadata": {
        "id": "PdUGN3KVQXQ_"
      },
      "execution_count": null,
      "outputs": []
    },
    {
      "cell_type": "code",
      "source": [
        "#ejemplo sandwich con precios y menor opciones\n",
        "def menu(opciones):\n",
        "                   #arma menú de opciones y devuelve selección entera\n",
        "                    #recibe tupla con opciones de menú'''\n",
        " print('Selecciona una opción')\n",
        " for i in range(1,len(opciones)):\n",
        "  print(i,'-',opciones[i][0]) #imprime el primer elemento de la tupla anidada dentro de la tupla principal (opciones[i][0]).\n",
        "                              #Esto se hace para mostrar solo el nombre del ingrediente\n",
        " opc=int(input())\n",
        " while opc not in range(1,len(opciones)):\n",
        "  opc=int(input())\n",
        " return opc\n",
        "\n",
        "quesos=('',('cheddar',75),('dambo',60),('sin queso',0))\n",
        "panes=('',('árabe',70),('pebete',70),('francés',60))\n",
        "carnes=('',('hamburguesa',200),('jamón cocido',150),('lomito',200),('salchicha',100),('veggie',0))\n",
        "\n",
        "sand=[]\n",
        "print('Armá tu sandwich')\n",
        "op1=menu(panes)\n",
        "sand.append(panes[op1][1])\n",
        "op2=menu(carnes)\n",
        "sand.append(carnes[op2][1])\n",
        "op3=menu(quesos)\n",
        "sand.append(quesos[op3][1])\n",
        "print('Tu pedido de sandwich de pan',panes[op1][0],'saldrá pronto')\n",
        "print('Detalle:',carnes[op2][0],quesos[op3][0],sep='\\n')\n",
        "print('Abonar: $%.2f'%sum(sand))"
      ],
      "metadata": {
        "id": "9fyVTRXRQtks"
      },
      "execution_count": null,
      "outputs": []
    },
    {
      "cell_type": "code",
      "source": [
        "#herramientas para el string\n",
        "\n",
        "#capitalize()\n",
        "string = \"hola\"\n",
        "\"hola\".capitalize() #devuelve el string con la primer letra en mayuscula\n"
      ],
      "metadata": {
        "id": "Gv0HoIAjU_gT"
      },
      "execution_count": null,
      "outputs": []
    },
    {
      "cell_type": "code",
      "source": [
        "#center(ancho[,relleno])\n",
        "string = \"hola\"\n",
        "\"hola\".center(10,\"*\")\n",
        "#devuelve al string centrado con relleno en los costados\n",
        "#devuelve 3 y 3 porque hola ocupa 4 letras\n"
      ],
      "metadata": {
        "id": "VOG54SIcV1-7"
      },
      "execution_count": null,
      "outputs": []
    },
    {
      "cell_type": "code",
      "source": [
        "#count\n",
        "#devuleve la cantidad de veces que aparece el valor en el string\n",
        "string = \"banana\"\n",
        "string.count(\"a\")"
      ],
      "metadata": {
        "id": "VdJlIT-yWFf0"
      },
      "execution_count": null,
      "outputs": []
    },
    {
      "cell_type": "code",
      "source": [
        "#format\n",
        "texto=\"Bienvenido a mi aplicación{1}\"\n",
        "print(texto.format(\" en Python\",\" en el curso de Python\"))\n"
      ],
      "metadata": {
        "id": "zSaWhRPcWlfB"
      },
      "execution_count": null,
      "outputs": []
    },
    {
      "cell_type": "markdown",
      "source": [
        "EJERCICIOS\n"
      ],
      "metadata": {
        "id": "8zetcmq6XjT4"
      }
    },
    {
      "cell_type": "code",
      "source": [
        "#Crear una lista con lo numeros del 1 al 10.\n",
        "#Accede a la posicion que el contiene el número 5,\n",
        "#e imprimirlo por pantalla. Recordar que el índice de las listas empieza con 0.\n",
        "\n",
        "lista = [1,2,3,4,5,6,7,8,9,10]\n",
        "print(lista)\n",
        "print(lista[4])\n",
        "\n",
        "print(\"La longitud de la lista es: \", len(lista))\n"
      ],
      "metadata": {
        "id": "-KKd2y3_YEJb"
      },
      "execution_count": null,
      "outputs": []
    },
    {
      "cell_type": "code",
      "source": [
        "#Con la lista del punto anterior, usar la funcion len()\n",
        "#para averiguar su longitud, e imprimirla.\n",
        "\n",
        "lista = [1,2,3,4,5,6,7,8,9,10]\n",
        "\n",
        "#devuelve la longitud de la lista\n",
        "print(len(lista))\n"
      ],
      "metadata": {
        "id": "q6jaM4sZZcdJ"
      },
      "execution_count": null,
      "outputs": []
    },
    {
      "cell_type": "code",
      "metadata": {
        "id": "ea4936f7",
        "colab": {
          "base_uri": "https://localhost:8080/"
        },
        "outputId": "c4ff1818-1647-4a05-d93e-c0848d14c873"
      },
      "source": [
        "\n",
        "# Ejecutar el código original para encontrar el máximo y mínimo de la lista\n",
        "lista = [1,5,77,64,86,29,10]\n",
        "print(\"El elemento máximo de la lista es:\", max(lista))\n",
        "print(\"El elemento mínimo de la lista es:\", min(lista))"
      ],
      "execution_count": 89,
      "outputs": [
        {
          "output_type": "stream",
          "name": "stdout",
          "text": [
            "El elemento máximo de la lista es: 86\n",
            "El elemento mínimo de la lista es: 1\n"
          ]
        }
      ]
    },
    {
      "cell_type": "code",
      "source": [
        "lista = [1,5,77,64,86,29,10]\n",
        "min(lista)"
      ],
      "metadata": {
        "colab": {
          "base_uri": "https://localhost:8080/"
        },
        "id": "vlmtMQWrcFXh",
        "outputId": "1e31e91c-7118-469c-a173-934565d37ce1"
      },
      "execution_count": 90,
      "outputs": [
        {
          "output_type": "execute_result",
          "data": {
            "text/plain": [
              "1"
            ]
          },
          "metadata": {},
          "execution_count": 90
        }
      ]
    },
    {
      "cell_type": "code",
      "source": [
        "#OTRA FORMA\n",
        "##Crear una lista con lo numeros del 1 al 10.\n",
        "#Accede a la posicion que el contiene el número 5,\n",
        "#e imprimirlo por pantalla. Recordar que el índice de las listas empieza con 0.\n",
        "\n",
        "lista = []\n",
        "for i in range (1,11):\n",
        "  lista.append(i)\n",
        "\n",
        "print(lista)\n",
        "print(lista[4])"
      ],
      "metadata": {
        "colab": {
          "base_uri": "https://localhost:8080/"
        },
        "id": "EcjnumRQcPYB",
        "outputId": "aee8d246-8433-4b70-d12c-f41f31a30cb8"
      },
      "execution_count": 91,
      "outputs": [
        {
          "output_type": "stream",
          "name": "stdout",
          "text": [
            "[1, 2, 3, 4, 5, 6, 7, 8, 9, 10]\n",
            "5\n"
          ]
        }
      ]
    },
    {
      "cell_type": "code",
      "source": [
        "#OTRA FORMA PARA HACER EL EJERCICIO ANTERIOR\n",
        "lista = list(range(1,11))\n",
        "print(lista)\n"
      ],
      "metadata": {
        "colab": {
          "base_uri": "https://localhost:8080/"
        },
        "id": "YpTlJ9Tude2f",
        "outputId": "627e00fb-102c-440e-8c30-6cbe0749dd4b"
      },
      "execution_count": 92,
      "outputs": [
        {
          "output_type": "stream",
          "name": "stdout",
          "text": [
            "[1, 2, 3, 4, 5, 6, 7, 8, 9, 10]\n"
          ]
        }
      ]
    },
    {
      "cell_type": "code",
      "source": [],
      "metadata": {
        "id": "lKNUZgvMdmSi"
      },
      "execution_count": null,
      "outputs": []
    },
    {
      "cell_type": "markdown",
      "metadata": {
        "id": "46b3d4d6"
      },
      "source": [
        "### Ejercicio: Gestión de Calificaciones de Estudiantes"
      ]
    },
    {
      "cell_type": "code",
      "metadata": {
        "colab": {
          "base_uri": "https://localhost:8080/"
        },
        "id": "224564c1",
        "outputId": "113b5434-ba26-4e18-e81f-181be7a4d78c"
      },
      "source": [
        "# Crea la lista de estudiantes con sus calificaciones (puedes usar tuplas o listas anidadas)\n",
        "estudiantes = [\n",
        "    (\"lara\",[4,5,8]),\n",
        "    (\"meg\",[10,9,10]),\n",
        "    (\"juan\",[3,5,7])\n",
        "]\n",
        "\n",
        "# 1. Imprime la lista completa de estudiantes\n",
        "print(\"Lista de estudiantes: \")\n",
        "for estudiante in estudiantes:\n",
        "  print(estudiante[0])\n",
        "\n",
        "print(\" \")\n",
        "# 2. Accede e imprime las calificaciones del segundo estudiante\n",
        "nota_estudiante2 = estudiantes [1][1]\n",
        "print(\"Calificaciones del segundo estudiante: \", nota_estudiante2)\n",
        "\n",
        "print(\" \")\n",
        "# 3. Calcula y imprime el promedio de calificaciones del primer estudiante\n",
        "print(\"Las notas del primer estudiante son: \", estudiantes[0][1])\n",
        "promedio_estudiante1 = sum(estudiantes[0][1])/len(estudiantes[0][1])\n",
        "print(\"El promedio del 1er estudiantes es: \", promedio_estudiante1)\n",
        "\n",
        "print(\"\")\n",
        "# 4. Agrega una nueva calificación a la lista de calificaciones del tercer estudiante\n",
        "estudiantes[2][1].append(8)\n",
        "print(\"Calificaciones del tercer estudiante: \", estudiantes[2][1])\n",
        "print(\"\")\n",
        "\n",
        "# 5. Imprime la lista de estudiantes nuevamente para ver el cambio\n",
        "print(\"Planilla de notas:\")\n",
        "for estudiantee in estudiantes:\n",
        "  print(\"Estudiante:\", estudiantee[0],\", \", \"notas: \", estudiantee[1])\n",
        "\n",
        "print(\"\")\n",
        "#promedios\n",
        "#promedio toma el valor que le especifique entre las llave\n",
        "#por cada bucle promedio tomara 1 de los 2 elemenos de la lista estudiantes\n",
        "for promedio in estudiantes: #\"para cada elemento de estudiantes\"\n",
        "  print(\"El promedio del estudiante\", promedio[0], \"es: \", sum(promedio[1])/len(promedio[1]))\n"
      ],
      "execution_count": 133,
      "outputs": [
        {
          "output_type": "stream",
          "name": "stdout",
          "text": [
            "Lista de estudiantes: \n",
            "lara\n",
            "meg\n",
            "juan\n",
            " \n",
            "Calificaciones del segundo estudiante:  [10, 9, 10]\n",
            " \n",
            "Las notas del primer estudiante son:  [4, 5, 8]\n",
            "El promedio del 1er estudiantes es:  5.666666666666667\n",
            "\n",
            "Calificaciones del tercer estudiante:  [3, 5, 7, 8]\n",
            "\n",
            "Planilla de notas:\n",
            "Estudiante: lara ,  notas:  [4, 5, 8]\n",
            "Estudiante: meg ,  notas:  [10, 9, 10]\n",
            "Estudiante: juan ,  notas:  [3, 5, 7, 8]\n",
            "\n",
            "El promedio del estudiante lara es:  5.666666666666667\n",
            "El promedio del estudiante meg es:  9.666666666666666\n",
            "El promedio del estudiante juan es:  5.75\n"
          ]
        }
      ]
    }
  ]
}
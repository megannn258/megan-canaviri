{
  "nbformat": 4,
  "nbformat_minor": 0,
  "metadata": {
    "colab": {
      "provenance": [],
      "authorship_tag": "ABX9TyMQ7+O9ukbknioY565oUN6F",
      "include_colab_link": true
    },
    "kernelspec": {
      "name": "python3",
      "display_name": "Python 3"
    },
    "language_info": {
      "name": "python"
    }
  },
  "cells": [
    {
      "cell_type": "markdown",
      "metadata": {
        "id": "view-in-github",
        "colab_type": "text"
      },
      "source": [
        "<a href=\"https://colab.research.google.com/github/megannn258/megan-canaviri/blob/main/sesion2_ubaxxi.ipynb\" target=\"_parent\"><img src=\"https://colab.research.google.com/assets/colab-badge.svg\" alt=\"Open In Colab\"/></a>"
      ]
    },
    {
      "cell_type": "markdown",
      "source": [
        "**Tipos de datos**\n",
        "\n",
        "\n"
      ],
      "metadata": {
        "id": "FoIvQbrb18VW"
      }
    },
    {
      "cell_type": "markdown",
      "source": [
        "Int, Float (entero, decimal)"
      ],
      "metadata": {
        "id": "4A-CPHrUGEep"
      }
    },
    {
      "cell_type": "code",
      "execution_count": null,
      "metadata": {
        "colab": {
          "base_uri": "https://localhost:8080/"
        },
        "id": "Pl2WdWu4NWs4",
        "outputId": "5a4f194c-4fd1-46e1-c0bb-a4394cfc4d9e"
      },
      "outputs": [
        {
          "output_type": "stream",
          "name": "stdout",
          "text": [
            "3\n",
            "<class 'int'>\n"
          ]
        }
      ],
      "source": [
        "x=3\n",
        "print(x)\n",
        "print(type(x))"
      ]
    },
    {
      "cell_type": "code",
      "source": [
        "x = \"megan\"\n",
        "print(x)\n",
        "type(x)"
      ],
      "metadata": {
        "colab": {
          "base_uri": "https://localhost:8080/"
        },
        "id": "QR2IoTi52yBE",
        "outputId": "3f92749f-b5c2-4cec-e97d-464445ed76db"
      },
      "execution_count": null,
      "outputs": [
        {
          "output_type": "stream",
          "name": "stdout",
          "text": [
            "megan\n"
          ]
        },
        {
          "output_type": "execute_result",
          "data": {
            "text/plain": [
              "str"
            ]
          },
          "metadata": {},
          "execution_count": 6
        }
      ]
    },
    {
      "cell_type": "code",
      "source": [
        "x =5.666\n",
        "print(type(x))"
      ],
      "metadata": {
        "colab": {
          "base_uri": "https://localhost:8080/"
        },
        "id": "qnq11a6v3Wre",
        "outputId": "055756a3-65c6-4531-c26c-42374d935376"
      },
      "execution_count": null,
      "outputs": [
        {
          "output_type": "stream",
          "name": "stdout",
          "text": [
            "<class 'float'>\n"
          ]
        }
      ]
    },
    {
      "cell_type": "code",
      "source": [
        "x=3\n",
        "print(x)\n",
        "print(type(x))\n",
        "\n",
        "x = \"megan\"\n",
        "print(x)\n",
        "print(type(x))"
      ],
      "metadata": {
        "colab": {
          "base_uri": "https://localhost:8080/"
        },
        "id": "dAfelwoI3KEO",
        "outputId": "23cfcddb-aafb-40bf-a3b3-dd5ac6ee37d0"
      },
      "execution_count": null,
      "outputs": [
        {
          "output_type": "stream",
          "name": "stdout",
          "text": [
            "3\n",
            "<class 'int'>\n",
            "megan\n",
            "<class 'str'>\n"
          ]
        }
      ]
    },
    {
      "cell_type": "code",
      "source": [
        "x =10\n",
        "y=8.1\n",
        "z= x + y\n",
        "print(type(z))\n",
        "print(z)\n"
      ],
      "metadata": {
        "colab": {
          "base_uri": "https://localhost:8080/"
        },
        "id": "fmZOFxj53lkK",
        "outputId": "2ac9a765-3b3b-45b7-9ca3-1fe48dc25618"
      },
      "execution_count": 3,
      "outputs": [
        {
          "output_type": "stream",
          "name": "stdout",
          "text": [
            "<class 'float'>\n",
            "18.1\n"
          ]
        }
      ]
    },
    {
      "cell_type": "code",
      "source": [
        "x =10\n",
        "y=8\n",
        "z= x + y\n",
        "print(type(z))\n",
        "print(z)"
      ],
      "metadata": {
        "colab": {
          "base_uri": "https://localhost:8080/"
        },
        "id": "ZTnfZiuU4CbS",
        "outputId": "d604b1d3-a71b-45f8-fe21-e9dec6c1b10e"
      },
      "execution_count": null,
      "outputs": [
        {
          "output_type": "stream",
          "name": "stdout",
          "text": [
            "<class 'int'>\n",
            "18\n"
          ]
        }
      ]
    },
    {
      "cell_type": "code",
      "source": [
        "#EN LA DIVISON DE DOS NUMEROS ENTEROS EL RESULTADO VA A SER DE TIPO FLOAT\n",
        "#PORQUE EL PROGRAMA VE MAS PROBLABLE QUE LA DIVISION DE COMO RESULTADO UN DECIMAL\n",
        "#Y POR MAS QUE SUMEMOS O RESTEMOS DOS NUMEROS FLOTANTES QUE DEN UN ENTERO, EL RESULTADO\n",
        "#SEGUIRA SIENDO FLOTANTE (DECIMAL)\n",
        "x=10\n",
        "y=5\n",
        "divison=x/y\n",
        "print(type(divison))\n",
        "print(divison)\n"
      ],
      "metadata": {
        "colab": {
          "base_uri": "https://localhost:8080/"
        },
        "id": "-acAE-564oja",
        "outputId": "e159bb0b-9ae4-482b-9cec-907ae9e3d5ff"
      },
      "execution_count": null,
      "outputs": [
        {
          "output_type": "stream",
          "name": "stdout",
          "text": [
            "<class 'float'>\n",
            "2.0\n"
          ]
        }
      ]
    },
    {
      "cell_type": "markdown",
      "source": [
        "Cadenas"
      ],
      "metadata": {
        "id": "dOu8ySCVF7V_"
      }
    },
    {
      "cell_type": "code",
      "source": [
        "nombre = \"Pensamiento\"\n",
        "apellido = \"Computacional\"\n",
        "\n",
        "#Concatenar 2 strings (enganchar/sumar 2 strings)\n",
        "nombre_completo = nombre + \" \" + apellido\n",
        "print(nombre_completo)"
      ],
      "metadata": {
        "colab": {
          "base_uri": "https://localhost:8080/"
        },
        "id": "hkeZCZPJF99N",
        "outputId": "b946a84f-89fe-4277-ca8f-906f9958e0cc"
      },
      "execution_count": 10,
      "outputs": [
        {
          "output_type": "stream",
          "name": "stdout",
          "text": [
            "Pensamiento Computacional\n"
          ]
        }
      ]
    },
    {
      "cell_type": "code",
      "source": [
        "nombre = \"Pensamiento\"\n",
        "apellido = \"Computacional\"\n",
        "\n",
        "#Conocer el largo de un string\n",
        "#usamos len que significa length = largo\n",
        "\n",
        "nombre_completo = nombre + \" \" + apellido\n",
        "print(nombre_completo)\n",
        "len(nombre_completo) #seria el largo del texto incluyendo el espacio"
      ],
      "metadata": {
        "colab": {
          "base_uri": "https://localhost:8080/"
        },
        "id": "wSZ0P88PGLof",
        "outputId": "4b3abb4b-293b-47ec-be17-a14644ac1bf5"
      },
      "execution_count": 12,
      "outputs": [
        {
          "output_type": "stream",
          "name": "stdout",
          "text": [
            "Pensamiento Computacional\n"
          ]
        },
        {
          "output_type": "execute_result",
          "data": {
            "text/plain": [
              "25"
            ]
          },
          "metadata": {},
          "execution_count": 12
        }
      ]
    },
    {
      "cell_type": "code",
      "source": [
        "#Cortar un string\n",
        "nombre = \"pensamiento\"\n",
        "apellido = \"Computacional\"\n",
        "\n",
        "nombre_corto = nombre [0:5:2] #me MUESTRA desde la letra 0 hasta la 4\n",
        "print(nombre_corto)\n",
        "#el primer numero es desde donde me va a mostrar\n",
        "#el 2do numero es hasta donde me va a mostrar (el cual es excluyente)\n",
        "#y el 3er numero es cada cuantos pasos me va a mostrar lo que le pedi\n",
        "#[start:end:step]\n",
        "#ahi puse 0 y 5, o sea me va a mostras PENSA, pero como son c/2 pasos\n",
        "#solo va a mostras PeNsA, PNA\n",
        "#ESTO TAMBIÉN ES CONOCIDO COMO *RANGO*"
      ],
      "metadata": {
        "colab": {
          "base_uri": "https://localhost:8080/"
        },
        "id": "znJe_Ia5GnkY",
        "outputId": "c3c34280-5027-4ad9-8b74-b968e1c20016"
      },
      "execution_count": 3,
      "outputs": [
        {
          "output_type": "stream",
          "name": "stdout",
          "text": [
            "pna\n"
          ]
        }
      ]
    },
    {
      "cell_type": "markdown",
      "source": [
        "Ingreso de datos por el usuario"
      ],
      "metadata": {
        "id": "Fazg44ByH-z2"
      }
    },
    {
      "cell_type": "code",
      "source": [
        " valor = input(\"Ingrese un valor: \")\n",
        " print(valor)\n",
        ""
      ],
      "metadata": {
        "colab": {
          "base_uri": "https://localhost:8080/"
        },
        "id": "9yBUnMkfH9dw",
        "outputId": "f9087cad-18b4-4151-ff97-83443ac76716"
      },
      "execution_count": 2,
      "outputs": [
        {
          "output_type": "stream",
          "name": "stdout",
          "text": [
            "Ingrese un valor: 7\n",
            "7\n"
          ]
        }
      ]
    },
    {
      "cell_type": "code",
      "source": [
        "num = int(input(\"Ingrese un valor: \"))\n",
        "numero = int(input(\"Ingrese otro valor: \"))\n",
        "suma = num + numero\n",
        "print(suma)\n",
        "\n",
        "#para que no me concatene los valores ingresado anticipo el dato que quiero"
      ],
      "metadata": {
        "colab": {
          "base_uri": "https://localhost:8080/"
        },
        "id": "b2u5vsbZsGPW",
        "outputId": "f9bad585-8028-4dc1-e2f1-1cafd22da47e"
      },
      "execution_count": 11,
      "outputs": [
        {
          "output_type": "stream",
          "name": "stdout",
          "text": [
            "Ingrese un valor: 8\n",
            "Ingrese otro valor: 90\n",
            "98\n"
          ]
        }
      ]
    },
    {
      "cell_type": "markdown",
      "source": [
        "Funciones (son bloques de codigo que creo para poder usar en el momento que quiera)\n"
      ],
      "metadata": {
        "id": "f-6iEauStxgQ"
      }
    },
    {
      "cell_type": "code",
      "source": [
        "#ponemos los dos puntitos que son la firma de la funcion\n",
        "def saludar():\n",
        "  print(\"Hola!\")\n",
        "  print(\"Espero que estes bien\")\n",
        "  print(\"Que tengas un buen dia\")\n",
        "\n",
        "saludar()\n"
      ],
      "metadata": {
        "colab": {
          "base_uri": "https://localhost:8080/"
        },
        "id": "8x244SiJty9e",
        "outputId": "0004120a-dc91-4f61-831f-ac2b5df8fdf4"
      },
      "execution_count": 19,
      "outputs": [
        {
          "output_type": "stream",
          "name": "stdout",
          "text": [
            "Hola!\n",
            "Espero que estes bien\n",
            "Que tengas un buen dia\n"
          ]
        }
      ]
    },
    {
      "cell_type": "code",
      "source": [
        "def saludar_noe():\n",
        "  print(\"hola noe\")\n",
        "\n",
        "def saludar_megan():\n",
        "  print(\"hola megan\")\n",
        "\n",
        "saludar_noe()\n",
        "saludar_megan()\n",
        "\n",
        "#para evitar tener que repetir funciones hacemos lo que voy a hacer abajo"
      ],
      "metadata": {
        "colab": {
          "base_uri": "https://localhost:8080/"
        },
        "id": "oFa1YQTGvZaX",
        "outputId": "69ab525e-e86b-4d88-960b-6501e59cc78c"
      },
      "execution_count": 2,
      "outputs": [
        {
          "output_type": "stream",
          "name": "stdout",
          "text": [
            "hola noe\n",
            "hola megan\n"
          ]
        }
      ]
    },
    {
      "cell_type": "code",
      "source": [
        "#aca contamos de que trata nuestra funcion\n",
        "#recibe el nombre de una persona y la saluda\n",
        "def saludar(nombre): #dps del hola dejo un espacio\n",
        "  print(\"hola \" + nombre)\n",
        "\n",
        "saludar(\"megan\")\n",
        "saludar(\"yola\")"
      ],
      "metadata": {
        "colab": {
          "base_uri": "https://localhost:8080/"
        },
        "id": "Q_uNAmyOGI0f",
        "outputId": "b750abda-f867-4bd3-9e13-5a3f11912369"
      },
      "execution_count": 8,
      "outputs": [
        {
          "output_type": "stream",
          "name": "stdout",
          "text": [
            "hola megan\n",
            "hola yola\n"
          ]
        }
      ]
    },
    {
      "cell_type": "code",
      "source": [
        "#recibe un nombre y lo saluda\n",
        "def saludo(nombre):\n",
        "  print(\"hola \"+ nombre)\n",
        "  print(\"como estas?\")\n",
        "saludo(\"megan\")\n",
        "\n",
        "#recibe dos numeros y los suma\n",
        "def suma(num1, num2):\n",
        "  suma = num1 + num2\n",
        "  print(\"la suma es de: \", suma) #A DIFERENCIA DEL NOMBRE, CUANDO ES UN NUMERO\n",
        "                                 #PONGO UNA COMA, NO UN +, PORQUE JUSTAMENTE NO ES UN STRING ahre\n",
        "suma(3,2)"
      ],
      "metadata": {
        "colab": {
          "base_uri": "https://localhost:8080/"
        },
        "id": "aiMBOHDYGuYU",
        "outputId": "3082e663-7246-44f0-9fbb-4936de4b4e30"
      },
      "execution_count": 17,
      "outputs": [
        {
          "output_type": "stream",
          "name": "stdout",
          "text": [
            "hola megan\n",
            "como estas?\n",
            "la suma es de:  5\n"
          ]
        }
      ]
    },
    {
      "cell_type": "code",
      "source": [
        "#recibe 2 numeros y devuelva la suma\n",
        "def suma(num1, num2):\n",
        "  resultado = num1 + num2\n",
        "  return resultado #devolvemos el resultado\n",
        "suma(1,2)\n",
        "\n",
        "#esta es una opcion, pero para poder llamar a un funcion cuando querramos\n"
      ],
      "metadata": {
        "colab": {
          "base_uri": "https://localhost:8080/"
        },
        "id": "hGLzbuCBLTtU",
        "outputId": "d4f47695-5476-4729-d850-faf2a93a6c2b"
      },
      "execution_count": 22,
      "outputs": [
        {
          "output_type": "execute_result",
          "data": {
            "text/plain": [
              "3"
            ]
          },
          "metadata": {},
          "execution_count": 22
        }
      ]
    },
    {
      "cell_type": "code",
      "source": [
        "#hacemos lo siguiente\n",
        "def suma(numero1, numero2):\n",
        "  resultado = numero1 + numero2\n",
        "  return resultado #devuelvo el resultado\n",
        "\n",
        "resultado_suma = suma (1,7) #aca guardo la variable resultado con los parametros\n",
        "print(resultado_suma) #y aca imprimo lo que guardo\n",
        "\n",
        "resultado_suma = suma(3,7)\n",
        "print(resultado_suma) #y asi puedo llamar a la funcion cuando quiera"
      ],
      "metadata": {
        "colab": {
          "base_uri": "https://localhost:8080/"
        },
        "id": "ngD2n2ThMimF",
        "outputId": "f89de341-98ec-4b49-94c8-7b4ce436182c"
      },
      "execution_count": 23,
      "outputs": [
        {
          "output_type": "stream",
          "name": "stdout",
          "text": [
            "8\n",
            "10\n"
          ]
        }
      ]
    },
    {
      "cell_type": "code",
      "source": [
        "#nos devuelve la suma y resta de dos funciones\n",
        "def resultado(num1, num2):\n",
        "   suma = num1 + num2\n",
        "   resta = num1 - num2\n",
        "   return suma, resta #cuando queres otra vez dos parametros los separamos con comas\n",
        "\n",
        "suma, resta = resultado (10,10) #aca guardamos la variable\n",
        "                         #el 1er numero es num1 y el segundo es num2\n",
        "print(\"la suma es de:\", suma)\n",
        "print(\"la resta es de:\", resta)\n"
      ],
      "metadata": {
        "colab": {
          "base_uri": "https://localhost:8080/"
        },
        "id": "PHblOBHjNOYZ",
        "outputId": "5de15f9c-ee1b-4305-e2fd-fe281f34e945"
      },
      "execution_count": 25,
      "outputs": [
        {
          "output_type": "stream",
          "name": "stdout",
          "text": [
            "la suma es de: 20\n",
            "la resta es de: 0\n"
          ]
        }
      ]
    },
    {
      "cell_type": "code",
      "source": [],
      "metadata": {
        "id": "SCULcZD_VNaP"
      },
      "execution_count": null,
      "outputs": []
    }
  ]
}